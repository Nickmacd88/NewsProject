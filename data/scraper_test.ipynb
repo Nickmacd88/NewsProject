{
 "cells": [
  {
   "metadata": {},
   "cell_type": "code",
   "source": [
    "import newspaper\n",
    "from jmespath.ast import comparator\n",
    "from newspaper import Config, Article, Source\n",
    "import sqlite3\n",
    "\n",
    "from win32cryptcon import szOID_CERTIFICATE_REVOCATION_LIST\n"
   ],
   "id": "4cfbf00d0fce7900",
   "outputs": [],
   "execution_count": null
  },
  {
   "metadata": {},
   "cell_type": "code",
   "source": [
    "\"\"\"Program needs to load the DB on start\n",
    "Then it needs to take in a news article\n",
    "Summmarize the news article and return the summary\n",
    "It also needs to take in a news article\n",
    "\"\"\""
   ],
   "id": "fa8fe627de78a45d",
   "outputs": [],
   "execution_count": null
  },
  {
   "metadata": {},
   "cell_type": "code",
   "source": [
    "import scraper\n",
    "scraper.create_db()"
   ],
   "id": "584fb1678e3d7e8b",
   "outputs": [],
   "execution_count": null
  },
  {
   "metadata": {},
   "cell_type": "code",
   "source": "con, cur = scraper.open_db()",
   "id": "45c24e785e3e4152",
   "outputs": [],
   "execution_count": null
  },
  {
   "metadata": {},
   "cell_type": "code",
   "source": [
    "cur.execute(\"SELECT * FROM news_articles\")\n",
    "articles = cur.fetchall()\n",
    "print(articles[0])\n",
    "# for article in articles:\n",
    "#     print(article)"
   ],
   "id": "6062cf74da45d7c3",
   "outputs": [],
   "execution_count": null
  },
  {
   "metadata": {
    "ExecuteTime": {
     "end_time": "2025-08-24T06:28:27.074492Z",
     "start_time": "2025-08-24T06:28:27.062800Z"
    }
   },
   "cell_type": "code",
   "source": "article = \"The Justice Department on Friday released the long-awaited transcripts of a weeks-old interview it conducted with convicted Jeffrey Epstein associate Ghislaine Maxwell.The Maxwell interview was one of two steps the White House took to try and quell outrage over its handling of the Epstein files, which has rocked the administration for weeks and caused even many supporters of President Donald Trump to balk.Attorney General Pam Bondi and other officials had built up anticipation for the Epstein documents before pulling back on promises to release them. Trump has also made a series of false and misleading claims that have caused Epstein’s victims to suggest a cover-up.The administration’s other big move – asking to unseal grand jury testimony – hasn’t amounted to much. In fact, two judges have suggested it was a “diversion” intended to look transparent without actually being so.The Maxwell interview conducted by Deputy Attorney General Todd Blanche, likewise, doesn’t add much to the public knowledge of Epstein. But there are some key points worth running through – particularly in the broader context of the administration’s botched handling of the matter.Here’s what to know from the transcript:Maxwell isn’t coming clean, which undercut the exercise The Maxwell interview is the administration’s first significant release of information since its effort to close the matter blew up in its face last month. (Also on Friday, it sent Epstein documents to a House committee that had demanded them, but those aren’t public yet.) But it was always a weird choice, given Maxwell is a convicted sex offender and her appeals are ongoing. The Justice Department in Trump’s first term also labeled her a brazen liar. What could she possibly add of value? Not a whole lot, it seems. The big headlines are that Maxwell doesn’t implicate anybody – including Trump – in any wrongdoing and says Epstein didn’t have a client list. But those statements might carry more weight if Maxwell came clean about her and Epstein’s own misdeeds. She clearly didn’t do that. In fact, she repeatedly cast doubt on them, too. She denied that Epstein paid her millions of dollars to recruit young women for him. She denied witnessing any nonconsensual sex acts. And she denied seeing anything “inappropriate” from “any man” – seemingly including Epstein. “I never, ever saw any man doing something inappropriate with a woman of any age,” Maxwell said. “I never saw inappropriate habits.” Some other Maxwell responses also call her credibility into question. In another instance, Maxwell claimed Epstein didn’t have “inappropriate” cameras inside his New York, Caribbean, New Mexico and Paris residences. Cameras in his Palm Beach, Florida, house were used because money was being stolen. But Epstein’s seven-story townhouse in Manhattan was outfitted with cameras, the New York Times reported earlier this month. Several of Epstein’s victims have cited a network of hidden cameras. In another instance, Maxwell indicated she didn’t recall recruiting a masseuse from Trump’s Mar-a-Lago resort – seemingly denying Virginia Giuffre’s claim that that’s where Maxwell recruited her. “I’ve never recruited a masseuse from Mar-a-Lago for that, as far as I remember,” she said. But the next day, Maxwell made a point to water down that denial. “I don’t remember anybody that I would have [recruited],” Maxwell said. “But it’s not impossible that I might have asked someone from there.”\"",
   "id": "551f40312ad6514",
   "outputs": [],
   "execution_count": 1
  },
  {
   "metadata": {
    "ExecuteTime": {
     "end_time": "2025-08-24T06:28:52.256480Z",
     "start_time": "2025-08-24T06:28:27.636443Z"
    }
   },
   "cell_type": "code",
   "source": [
    "from model.comparator import Article_Comparator\n",
    "comp = Article_Comparator()\n",
    "\n",
    "results = comp.top_k(article)"
   ],
   "id": "3aa9e5972c5ec5da",
   "outputs": [
    {
     "ename": "TypeError",
     "evalue": "only integer tensors of a single element can be converted to an index",
     "output_type": "error",
     "traceback": [
      "\u001B[1;31m---------------------------------------------------------------------------\u001B[0m",
      "\u001B[1;31mTypeError\u001B[0m                                 Traceback (most recent call last)",
      "Cell \u001B[1;32mIn[2], line 4\u001B[0m\n\u001B[0;32m      1\u001B[0m \u001B[38;5;28;01mfrom\u001B[39;00m\u001B[38;5;250m \u001B[39m\u001B[38;5;21;01mmodel\u001B[39;00m\u001B[38;5;21;01m.\u001B[39;00m\u001B[38;5;21;01mcomparator\u001B[39;00m\u001B[38;5;250m \u001B[39m\u001B[38;5;28;01mimport\u001B[39;00m Article_Comparator\n\u001B[0;32m      2\u001B[0m comp \u001B[38;5;241m=\u001B[39m Article_Comparator()\n\u001B[1;32m----> 4\u001B[0m results \u001B[38;5;241m=\u001B[39m comp\u001B[38;5;241m.\u001B[39mtop_k(article)\n",
      "File \u001B[1;32mE:\\Coding Projects\\NewsProject\\model\\comparator.py:57\u001B[0m, in \u001B[0;36mArticle_Comparator.top_k\u001B[1;34m(self, article, k)\u001B[0m\n\u001B[0;32m     54\u001B[0m topk \u001B[38;5;241m=\u001B[39m torch\u001B[38;5;241m.\u001B[39mtopk(scores, \u001B[38;5;28mmin\u001B[39m(k, \u001B[38;5;28mlen\u001B[39m(scores[\u001B[38;5;241m-\u001B[39m\u001B[38;5;241m1\u001B[39m])))\n\u001B[0;32m     55\u001B[0m \u001B[38;5;28;01mfor\u001B[39;00m score, idx \u001B[38;5;129;01min\u001B[39;00m \u001B[38;5;28mzip\u001B[39m(topk[\u001B[38;5;241m0\u001B[39m], topk[\u001B[38;5;241m1\u001B[39m]):\n\u001B[0;32m     56\u001B[0m     results\u001B[38;5;241m.\u001B[39mappend({\n\u001B[1;32m---> 57\u001B[0m         \u001B[38;5;124m\"\u001B[39m\u001B[38;5;124mid\u001B[39m\u001B[38;5;124m\"\u001B[39m: article[idx][\u001B[38;5;241m0\u001B[39m],\n\u001B[0;32m     58\u001B[0m         \u001B[38;5;124m\"\u001B[39m\u001B[38;5;124mtitle\u001B[39m\u001B[38;5;124m\"\u001B[39m: articles[idx][\u001B[38;5;241m1\u001B[39m],\n\u001B[0;32m     59\u001B[0m         \u001B[38;5;124m\"\u001B[39m\u001B[38;5;124murl\u001B[39m\u001B[38;5;124m\"\u001B[39m: articles[idx][\u001B[38;5;241m2\u001B[39m],\n\u001B[0;32m     60\u001B[0m         \u001B[38;5;124m\"\u001B[39m\u001B[38;5;124mtext\u001B[39m\u001B[38;5;124m\"\u001B[39m: articles[idx][\u001B[38;5;241m3\u001B[39m],\n\u001B[0;32m     61\u001B[0m         \u001B[38;5;124m\"\u001B[39m\u001B[38;5;124mscore\u001B[39m\u001B[38;5;124m\"\u001B[39m: \u001B[38;5;28mfloat\u001B[39m(score)\n\u001B[0;32m     62\u001B[0m     })\n\u001B[0;32m     63\u001B[0m \u001B[38;5;28;01mreturn\u001B[39;00m results\n",
      "\u001B[1;31mTypeError\u001B[0m: only integer tensors of a single element can be converted to an index"
     ]
    }
   ],
   "execution_count": 2
  },
  {
   "metadata": {},
   "cell_type": "code",
   "source": [
    "for article in results:\n",
    "    print(article['title'])"
   ],
   "id": "d39420188a9e4b76",
   "outputs": [],
   "execution_count": null
  },
  {
   "metadata": {},
   "cell_type": "code",
   "source": [
    "con = sqlite3.connect(\"old_news.db\")\n",
    "cur = con.cursor()\n",
    "# cur.execute(\"CREATE TABLE test(id INTEGER PRIMARY KEY, title TEXT, url TEXT, text TEXT, date TEXT, authors TEXT, embeddings BLOB)\")"
   ],
   "id": "9992dc590cfaaa71",
   "outputs": [],
   "execution_count": null
  },
  {
   "metadata": {},
   "cell_type": "code",
   "source": [
    "from model.comparator import Article_Comparator\n",
    "comparator = Article_Comparator()"
   ],
   "id": "f1f248c9cb55f75e",
   "outputs": [],
   "execution_count": null
  },
  {
   "metadata": {},
   "cell_type": "code",
   "source": [
    "cur.execute(\"SELECT * FROM news_articles\")\n",
    "articles = cur.fetchall()\n",
    "for article in articles:\n",
    "    print(article[1])"
   ],
   "id": "288944567810050a",
   "outputs": [],
   "execution_count": null
  },
  {
   "metadata": {},
   "cell_type": "code",
   "source": [
    "import numpy as np\n",
    "cur.execute(\"DELETE FROM test\")\n",
    "for article in articles:\n",
    "    article = list(article)\n",
    "    article.append(comparator.model.encode(article[3]).astype(np.float32).tobytes())\n",
    "    cur.execute(\"INSERT INTO test VALUES (?,?,?,?,?,?,?)\", article)\n"
   ],
   "id": "2720725183dbd89",
   "outputs": [],
   "execution_count": null
  },
  {
   "metadata": {},
   "cell_type": "code",
   "source": "",
   "id": "a4e162b7b4614ccc",
   "outputs": [],
   "execution_count": null
  },
  {
   "metadata": {},
   "cell_type": "code",
   "source": "",
   "id": "104a8b8f095a1783",
   "outputs": [],
   "execution_count": null
  }
 ],
 "metadata": {
  "kernelspec": {
   "display_name": "Python [conda env:base] *",
   "language": "python",
   "name": "conda-base-py"
  },
  "language_info": {
   "codemirror_mode": {
    "name": "ipython",
    "version": 2
   },
   "file_extension": ".py",
   "mimetype": "text/x-python",
   "name": "python",
   "nbconvert_exporter": "python",
   "pygments_lexer": "ipython2",
   "version": "2.7.6"
  }
 },
 "nbformat": 4,
 "nbformat_minor": 5
}
