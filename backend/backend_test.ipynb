{
 "cells": [
  {
   "cell_type": "code",
   "id": "initial_id",
   "metadata": {
    "collapsed": true,
    "ExecuteTime": {
     "end_time": "2025-08-22T11:40:16.986748Z",
     "start_time": "2025-08-22T11:40:03.661900Z"
    }
   },
   "source": "import model.summarizer",
   "outputs": [],
   "execution_count": 1
  },
  {
   "metadata": {
    "ExecuteTime": {
     "end_time": "2025-08-22T11:40:20.471317Z",
     "start_time": "2025-08-22T11:40:16.997065Z"
    }
   },
   "cell_type": "code",
   "source": "sum = model.summarizer.Summarizer()",
   "id": "17550f2c6a034519",
   "outputs": [
    {
     "name": "stderr",
     "output_type": "stream",
     "text": [
      "Device set to use cpu\n"
     ]
    }
   ],
   "execution_count": 2
  },
  {
   "metadata": {
    "ExecuteTime": {
     "end_time": "2025-08-24T08:25:55.608781Z",
     "start_time": "2025-08-24T08:25:55.601489Z"
    }
   },
   "cell_type": "code",
   "source": "article = \"Rather suddenly, there’s been a vibe shift around artificial intelligence, the tech that’s hypnotized Wall Street and inspired cultish devotion across Silicon Valley over the past three years. And while it’s too soon to declare August 2025 the start of the AI winter, or the AI correction, or the AI bubble bursting, or whatever slowdown metaphor you prefer, it is undeniable that a series of industry stumbles is making investors, businesses and customers do a double-take. Among them: Meta, which was recently shelling out $100 million signing bonuses for AI talent, has instituted a hiring freeze and is reportedly looking at downsizing its AI division. Sam Altman, the CEO of OpenAI and the industry’s biggest hype man, is floating the word “bubble” in media interviews. ChatGPT-5, billed by OpenAI as a PhD-level game-changer, is a flop.Coreweave, a cloud computing company backed by Nvidia, has shed nearly 40% of its value in just over a week. Researchers at MIT published a report showing that 95% of the generative AI programs launched by companies failed to do the main thing they were intended for — ginning up more revenue.Anthropic and OpenAI have struck deals to give their products to the US government for next to nothing — even as they are burning through cash and lack demonstrable paths to profitability.All of that has sent traders rushing to buy “disaster puts” — options that act as a kind of insurance for when the market drops — in case we’re about to relive the late-90s dot-com bust. Per Bloomberg, investors aren’t just preparing for a pullback, they’re bracing for a nosedive.“I suspect this will lead to a larger correction,” Mike O’Rourke, chief market strategist at JonesTrading, told me, noting that Meta dangling NFL-like compensation packages to attract AI engineers was “a sign the spending was going over the top.The tech stocks that have been propping up the entire market, including Nvidia (NVDA), Microsoft (MSFT) and Palantir (PLTR), tumbled this week. (Of course, Wall Street is weighing a lot more than just some bad headlines for the tech sector. There’s also tariffs, mixed retail earnings, and, not least, the president of the United States’ campaign to install loyalists at the Federal Reserve. That central bank drama is piling even more attention Friday’s speech by Fed Chair Jay Powell, who even in precedented times can move markets with a single furrow of his brow. You’ll be able to hear a pin drop across Wall Street as investors tune in at 10am ET.) For some investors, the tech pullback is “just a pause that may refresh as investors retrench and rethink how they want to position their tech dollars,” Rob Haworth, senior investment strategy director at US Bank Asset Management Group, told my colleague John Towfighi this week. Maybe. But the ups and downs of the market are just one measure of AI’s impact, and even some of AI’s biggest critics say the downfall won’t happen overnight. The bubble bursting was never going to be one event, but a series of sentiment shifts against technology that has never proven its worth outside of specious hype,” Ed Zitron, a tech writer and host of the podcast Better Offline, told me. “In any case, it’s been three years, and at some point there had to be some sort of proof that any of this was worth it… The narrative is spiraling out of control, with the only way to fix it being to show actual returns, which none of these companies have.”\"",
   "id": "e197ea18dbd2442",
   "outputs": [],
   "execution_count": 8
  },
  {
   "metadata": {
    "ExecuteTime": {
     "end_time": "2025-08-24T08:27:29.287518Z",
     "start_time": "2025-08-24T08:27:29.281002Z"
    }
   },
   "cell_type": "code",
   "source": "article = \"The Justice Department on Friday released the long-awaited transcripts of a weeks-old interview it conducted with convicted Jeffrey Epstein associate Ghislaine Maxwell.The Maxwell interview was one of two steps the White House took to try and quell outrage over its handling of the Epstein files, which has rocked the administration for weeks and caused even many supporters of President Donald Trump to balk.Attorney General Pam Bondi and other officials had built up anticipation for the Epstein documents before pulling back on promises to release them. Trump has also made a series of false and misleading claims that have caused Epstein’s victims to suggest a cover-up.The administration’s other big move – asking to unseal grand jury testimony – hasn’t amounted to much. In fact, two judges have suggested it was a “diversion” intended to look transparent without actually being so.The Maxwell interview conducted by Deputy Attorney General Todd Blanche, likewise, doesn’t add much to the public knowledge of Epstein. But there are some key points worth running through – particularly in the broader context of the administration’s botched handling of the matter.Here’s what to know from the transcript:Maxwell isn’t coming clean, which undercut the exercise The Maxwell interview is the administration’s first significant release of information since its effort to close the matter blew up in its face last month. (Also on Friday, it sent Epstein documents to a House committee that had demanded them, but those aren’t public yet.) But it was always a weird choice, given Maxwell is a convicted sex offender and her appeals are ongoing. The Justice Department in Trump’s first term also labeled her a brazen liar. What could she possibly add of value? Not a whole lot, it seems. The big headlines are that Maxwell doesn’t implicate anybody – including Trump – in any wrongdoing and says Epstein didn’t have a client list. But those statements might carry more weight if Maxwell came clean about her and Epstein’s own misdeeds. She clearly didn’t do that. In fact, she repeatedly cast doubt on them, too. She denied that Epstein paid her millions of dollars to recruit young women for him. She denied witnessing any nonconsensual sex acts. And she denied seeing anything “inappropriate” from “any man” – seemingly including Epstein. “I never, ever saw any man doing something inappropriate with a woman of any age,” Maxwell said. “I never saw inappropriate habits.” Some other Maxwell responses also call her credibility into question. In another instance, Maxwell claimed Epstein didn’t have “inappropriate” cameras inside his New York, Caribbean, New Mexico and Paris residences. Cameras in his Palm Beach, Florida, house were used because money was being stolen. But Epstein’s seven-story townhouse in Manhattan was outfitted with cameras, the New York Times reported earlier this month. Several of Epstein’s victims have cited a network of hidden cameras. In another instance, Maxwell indicated she didn’t recall recruiting a masseuse from Trump’s Mar-a-Lago resort – seemingly denying Virginia Giuffre’s claim that that’s where Maxwell recruited her. “I’ve never recruited a masseuse from Mar-a-Lago for that, as far as I remember,” she said. But the next day, Maxwell made a point to water down that denial. “I don’t remember anybody that I would have [recruited],” Maxwell said. “But it’s not impossible that I might have asked someone from there.”\"",
   "id": "c7f13ee360f5a13f",
   "outputs": [],
   "execution_count": 12
  },
  {
   "metadata": {
    "ExecuteTime": {
     "end_time": "2025-08-24T08:41:34.819265Z",
     "start_time": "2025-08-24T08:41:34.706575Z"
    }
   },
   "cell_type": "code",
   "source": [
    "import requests\n",
    "\n",
    "url = \"http://127.0.0.1:8000/compare\"\n",
    "data = {\"text\": article}\n",
    "\n",
    "response = requests.post(url, json=data)\n",
    "print(response.json())"
   ],
   "id": "c9bfc8c0fc74e1c2",
   "outputs": [
    {
     "name": "stdout",
     "output_type": "stream",
     "text": [
      "[{'title': 'Ghislaine Maxwell interview transcripts released by US justice department', 'url': 'https://www.bbc.com/news/articles/cdd3pe6189go', 'text': 'Ghislaine Maxwell denies seeing \\'inappropriate\\' conduct by Trump\\n\\n10 hours ago Share Save Bernd Debusmann Jr BBC News, White House Share Save\\n\\nGetty Images Maxwell denied many of the theories that have become focal points of conspiracy theories about the Epstein case.\\n\\nGhislaine Maxwell, the jailed associate of sex offender Jeffrey Epstein, has told US officials she did not witness any inappropriate conduct by Donald Trump or former President Bill Clinton. The Trump administration has faced pressure to disclose information about Epstein, who the US president had been friendly with. Maxwell was interviewed from prison in July and, according to the newly released transcript, told Deputy Attorney General Todd Blanche that a much-discussed \"client list\" does not exist. The interview outraged the family of Virginia Giuffre - a prominent Epstein accuser who died by suicide earlier this year - who say the government has given Maxwell \"a platform to rewrite history\".\\n\\nMaxwell is seeking a pardon from Trump and has been accused of lying to federal officials. Shortly after the interview with Blanche - who previously worked as Trump\\'s personal attorney - she was moved from a Florida prison to a new minimum-security facility in Texas. It is unclear why the move was made. She is currently serving a 20-year sentence in a sex-trafficking scheme, and has petitioned the US Supreme Court to overturn her conviction. Her lawyer has said they would \"welcome\" a pardon from the president. She also called allegations of Prince Andrew having sexual relations with an underage girl in Maxwell\\'s home \"mind-blowingly not conceivable\". Although the name of the girl was redacted, it was clear from the context that Maxwell was discussing Giuffre, who had claimed she was paid to have sex with the prince in Maxwell\\'s house. An infamous photo shows the three of them together when she was 17. The prince settled with Giuffre in 2022, but denied liability. \"I believe it\\'s literally a fake photo,\" Maxwell said during the interview. Giuffre\\'s family said they were \"outraged\" by the content of Maxwell\\'s interview with the Justice Department. \"During DAG Todd Blanche\\'s bizarre interview, she is never challenged about her court-proven lies, providing her a platform to rewrite history,\" the statement reads. \"This travesty of justice entirely invalidates the experiences of the many brave survivors who put their safety, security, and lives on the line to ensure her conviction, including our sister.\" The White House has been adamant that \"no leniency is being given or discussed\" in Maxwell\\'s case. Trump has maintained that he fell out with Epstein in 2004. The president has accused his political opponents of using the case to distract from what he sees as his administration\\'s victories. But he has also faced pressure from his own Republican Party for more transparency around investigations of Epstein.\\n\\nWhat Maxwell transcript revealed\\n\\nIn the transcripts - which amount to 300 pages, some heavily redacted - Maxwell said that while she believed Trump and Epstein were friendly \"in social settings\", she did not think they were close friends. \"I actually never saw the president in any type of massage setting,\" she said - alluding to the massage services that some Epstein victims have mentioned. \"The president was never inappropriate with anybody.\" \"In the times I was with him, he was a gentleman in all respects,\" she added. She also said she did not recall Trump sending Epstein a 50th birthday note in 2003, which drew recent headlines after the note was reported in the Wall Street Journal. In the interview, Blanche also asked Maxwell about the alleged \"client list\" of high-profile personalities that has become the object of conspiracy theories in recent years. Maxwell was asked about several well-known figures, including Bill Gates, Elon Musk, former Israeli Prime Minister Ehud Barak, Health and Human Services Secretary Robert F Kennedy Jr, actor Kevin Spacey, model Naomi Campbell and Prince Andrew - whom she denied she introduced to Epstein. The list of his high-profile associates had become a focal point for conspiracy theorists who insisted that it was being kept hidden by the \"deep state\" to protect prominent participants in Epstein\\'s crimes. Several figures in Trump\\'s administration - including FBI Director Kash Patel and Deputy Director Dan Bongino - repeated those claims in the past, although they have since backtracked. \"There is no list,\" Maxwell said.\\n\\nGhislaine Maxwell: \\'I never saw the president in any type of massage setting\\'', 'score': 0.7481870651245117}, {'title': 'Ghislaine Maxwell interview transcripts released by US justice department', 'url': 'https://bbc.com/news/articles/cdd3pe6189go', 'text': 'Ghislaine Maxwell denies seeing \\'inappropriate\\' conduct by Trump\\n\\n10 hours ago Share Save Bernd Debusmann Jr BBC News, White House Share Save\\n\\nGetty Images Maxwell denied many of the theories that have become focal points of conspiracy theories about the Epstein case.\\n\\nGhislaine Maxwell, the jailed associate of sex offender Jeffrey Epstein, has told US officials she did not witness any inappropriate conduct by Donald Trump or former President Bill Clinton. The Trump administration has faced pressure to disclose information about Epstein, who the US president had been friendly with. Maxwell was interviewed from prison in July and, according to the newly released transcript, told Deputy Attorney General Todd Blanche that a much-discussed \"client list\" does not exist. The interview outraged the family of Virginia Giuffre - a prominent Epstein accuser who died by suicide earlier this year - who say the government has given Maxwell \"a platform to rewrite history\".\\n\\nMaxwell is seeking a pardon from Trump and has been accused of lying to federal officials. Shortly after the interview with Blanche - who previously worked as Trump\\'s personal attorney - she was moved from a Florida prison to a new minimum-security facility in Texas. It is unclear why the move was made. She is currently serving a 20-year sentence in a sex-trafficking scheme, and has petitioned the US Supreme Court to overturn her conviction. Her lawyer has said they would \"welcome\" a pardon from the president. She also called allegations of Prince Andrew having sexual relations with an underage girl in Maxwell\\'s home \"mind-blowingly not conceivable\". Although the name of the girl was redacted, it was clear from the context that Maxwell was discussing Giuffre, who had claimed she was paid to have sex with the prince in Maxwell\\'s house. An infamous photo shows the three of them together when she was 17. The prince settled with Giuffre in 2022, but denied liability. \"I believe it\\'s literally a fake photo,\" Maxwell said during the interview. Giuffre\\'s family said they were \"outraged\" by the content of Maxwell\\'s interview with the Justice Department. \"During DAG Todd Blanche\\'s bizarre interview, she is never challenged about her court-proven lies, providing her a platform to rewrite history,\" the statement reads. \"This travesty of justice entirely invalidates the experiences of the many brave survivors who put their safety, security, and lives on the line to ensure her conviction, including our sister.\" The White House has been adamant that \"no leniency is being given or discussed\" in Maxwell\\'s case. Trump has maintained that he fell out with Epstein in 2004. The president has accused his political opponents of using the case to distract from what he sees as his administration\\'s victories. But he has also faced pressure from his own Republican Party for more transparency around investigations of Epstein.\\n\\nWhat Maxwell transcript revealed\\n\\nIn the transcripts - which amount to 300 pages, some heavily redacted - Maxwell said that while she believed Trump and Epstein were friendly \"in social settings\", she did not think they were close friends. \"I actually never saw the president in any type of massage setting,\" she said - alluding to the massage services that some Epstein victims have mentioned. \"The president was never inappropriate with anybody.\" \"In the times I was with him, he was a gentleman in all respects,\" she added. She also said she did not recall Trump sending Epstein a 50th birthday note in 2003, which drew recent headlines after the note was reported in the Wall Street Journal. In the interview, Blanche also asked Maxwell about the alleged \"client list\" of high-profile personalities that has become the object of conspiracy theories in recent years. Maxwell was asked about several well-known figures, including Bill Gates, Elon Musk, former Israeli Prime Minister Ehud Barak, Health and Human Services Secretary Robert F Kennedy Jr, actor Kevin Spacey, model Naomi Campbell and Prince Andrew - whom she denied she introduced to Epstein. The list of his high-profile associates had become a focal point for conspiracy theorists who insisted that it was being kept hidden by the \"deep state\" to protect prominent participants in Epstein\\'s crimes. Several figures in Trump\\'s administration - including FBI Director Kash Patel and Deputy Director Dan Bongino - repeated those claims in the past, although they have since backtracked. \"There is no list,\" Maxwell said.\\n\\nGhislaine Maxwell: \\'I never saw the president in any type of massage setting\\'', 'score': 0.7481870651245117}, {'title': \"Ghislaine Maxwell denies Trump or Clinton were involved in Epstein's crimes, interview transcript shows\", 'url': 'https://www.bbc.com/news/live/c2kz39wv0v9t', 'text': 'Neither Trump nor Clinton were involved in Epstein\\'s crimes, Maxwell says from jail\\n\\nThe transcript of an interview between US Department of Justice\\'s second-in-command Todd Blanche and Ghislaine Maxwell was made public for the first time on Friday.\\n\\nMaxwell has been serving a 20-year jail term for child sex trafficking and other offences in connection with the late financier Jeffrey Epstein, also a convicted sex offender.\\n\\nAccording to the released transcript, Maxwell told Blanche she had never seen President Trump \"in any inappropriate setting in any way\". The current president \"seemed friendly\" with Epstein, she said, but added she only recalled seeing the pair together in \"social settings\" and not in \"private settings\".\\n\\nOn Prince Andrew, Maxwell called the allegations against him \"mind-blowingly not conceivable\", partly due to the size of her house where the events allegedly took place. The royal was accused by Virginia Giuffre, who is not named in the transcript, of sexually abusing her when she was 17. Giuffre took her own life earlier this year.\\n\\nMaxwell said she was not aware of any sort of Epstein client list - after the FBI and DoJ said there was \"no credible evidence\" that Epstein blackmailed prominent individuals.\\n\\nShe also touched upon Bill Clinton, the former US president who flew on Epstein\\'s private planes 26 times, she said. However, Maxwell stressed that Clinton was a friend of hers, not Epstein\\'s, adding that no massage services were provided to him.\\n\\nWe will be closing this live page - please follow all the latest coverage here.', 'score': 0.6698160171508789}]\n"
     ]
    }
   ],
   "execution_count": 27
  },
  {
   "metadata": {
    "ExecuteTime": {
     "end_time": "2025-09-28T20:43:30.033453Z",
     "start_time": "2025-09-28T20:43:28.669617Z"
    }
   },
   "cell_type": "code",
   "source": [
    "import sentence_transformers\n",
    "\n",
    "model = sentence_transformers.SentenceTransformer(\"all-MiniLM-L6-v2\", cache_folder=\"./cache\")\n",
    "model.save_pretrained(\"../model\")"
   ],
   "id": "f52e4c0382cb002d",
   "outputs": [],
   "execution_count": 1
  },
  {
   "metadata": {},
   "cell_type": "code",
   "outputs": [],
   "execution_count": null,
   "source": "",
   "id": "9a4bb6f2c89357be"
  }
 ],
 "metadata": {
  "kernelspec": {
   "display_name": "Python 3 (ipykernel)",
   "language": "python",
   "name": "python3"
  },
  "language_info": {
   "codemirror_mode": {
    "name": "ipython",
    "version": 2
   },
   "file_extension": ".py",
   "mimetype": "text/x-python",
   "name": "python",
   "nbconvert_exporter": "python",
   "pygments_lexer": "ipython2",
   "version": "2.7.6"
  }
 },
 "nbformat": 4,
 "nbformat_minor": 5
}
