{
 "cells": [
  {
   "cell_type": "code",
   "id": "initial_id",
   "metadata": {
    "ExecuteTime": {
     "end_time": "2025-08-20T10:50:38.694643Z",
     "start_time": "2025-08-20T10:50:38.688412Z"
    }
   },
   "source": [
    "from transformers import BartTokenizer, BartForConditionalGeneration\n",
    "import torch"
   ],
   "outputs": [],
   "execution_count": 4
  },
  {
   "metadata": {
    "ExecuteTime": {
     "end_time": "2025-08-20T10:53:26.568859Z",
     "start_time": "2025-08-20T10:50:38.743293Z"
    }
   },
   "cell_type": "code",
   "source": [
    "tokenizer = BartTokenizer.from_pretrained(\"sshleifer/distilbart-xsum-12-1\", cache_dir=\"./cache\")\n",
    "model = BartForConditionalGeneration.from_pretrained(\"sshleifer/distilbart-xsum-12-1\", cache_dir=\"./cache\").to(\"cuda\" if torch.cuda.is_available() else \"cpu\")\n",
    "\n",
    "def summarize(text):\n",
    "    inputs = tokenizer([text], max_length=1024, return_tensors=\"pt\", truncation=True).to(model.device)\n",
    "    print\n",
    "    summary_ids = model.generate(\n",
    "        inputs[\"input_ids\"],\n",
    "        num_beams=4,\n",
    "        min_length=40,\n",
    "        max_length=150,\n",
    "        early_stopping=True\n",
    "    )\n",
    "    return tokenizer.decode(summary_ids[0], skip_special_tokens=True)"
   ],
   "id": "48919b3e92784b2",
   "outputs": [
    {
     "data": {
      "text/plain": [
       "tokenizer_config.json:   0%|          | 0.00/26.0 [00:00<?, ?B/s]"
      ],
      "application/vnd.jupyter.widget-view+json": {
       "version_major": 2,
       "version_minor": 0,
       "model_id": "aa59844b6d5c49c19d6cb15bfd332fc4"
      }
     },
     "metadata": {},
     "output_type": "display_data"
    },
    {
     "data": {
      "text/plain": [
       "vocab.json: 0.00B [00:00, ?B/s]"
      ],
      "application/vnd.jupyter.widget-view+json": {
       "version_major": 2,
       "version_minor": 0,
       "model_id": "b16b5a0b724d41e69bfac4b4de12331a"
      }
     },
     "metadata": {},
     "output_type": "display_data"
    },
    {
     "data": {
      "text/plain": [
       "merges.txt: 0.00B [00:00, ?B/s]"
      ],
      "application/vnd.jupyter.widget-view+json": {
       "version_major": 2,
       "version_minor": 0,
       "model_id": "21fd5e10e27243d48b8d6c3b4d603c55"
      }
     },
     "metadata": {},
     "output_type": "display_data"
    },
    {
     "data": {
      "text/plain": [
       "config.json: 0.00B [00:00, ?B/s]"
      ],
      "application/vnd.jupyter.widget-view+json": {
       "version_major": 2,
       "version_minor": 0,
       "model_id": "7e40a568722a4caea4445512f1797df5"
      }
     },
     "metadata": {},
     "output_type": "display_data"
    },
    {
     "data": {
      "text/plain": [
       "pytorch_model.bin:   0%|          | 0.00/443M [00:00<?, ?B/s]"
      ],
      "application/vnd.jupyter.widget-view+json": {
       "version_major": 2,
       "version_minor": 0,
       "model_id": "8d8572b8fa844b9b8764e5e5ee626e57"
      }
     },
     "metadata": {},
     "output_type": "display_data"
    }
   ],
   "execution_count": 5
  },
  {
   "metadata": {
    "ExecuteTime": {
     "end_time": "2025-08-20T10:53:46.618484Z",
     "start_time": "2025-08-20T10:53:46.608753Z"
    }
   },
   "cell_type": "code",
   "source": "tokenizer(\"Hello World\")",
   "id": "f7207f9f682c9cfd",
   "outputs": [
    {
     "data": {
      "text/plain": [
       "{'input_ids': [0, 31414, 623, 2], 'attention_mask': [1, 1, 1, 1]}"
      ]
     },
     "execution_count": 8,
     "metadata": {},
     "output_type": "execute_result"
    }
   ],
   "execution_count": 8
  },
  {
   "metadata": {
    "ExecuteTime": {
     "end_time": "2025-08-20T10:53:55.196113Z",
     "start_time": "2025-08-20T10:53:55.187245Z"
    }
   },
   "cell_type": "code",
   "source": "tokenizer(\"hello world\")",
   "id": "de4d0876a62cd41d",
   "outputs": [
    {
     "data": {
      "text/plain": [
       "{'input_ids': [0, 42891, 232, 2], 'attention_mask': [1, 1, 1, 1]}"
      ]
     },
     "execution_count": 9,
     "metadata": {},
     "output_type": "execute_result"
    }
   ],
   "execution_count": 9
  },
  {
   "metadata": {
    "ExecuteTime": {
     "end_time": "2025-08-20T10:55:22.438653Z",
     "start_time": "2025-08-20T10:55:22.432487Z"
    }
   },
   "cell_type": "code",
   "source": "tokenizer(\"hello\\n world\")",
   "id": "15d043b216b6ae68",
   "outputs": [
    {
     "data": {
      "text/plain": [
       "{'input_ids': [0, 42891, 50118, 232, 2], 'attention_mask': [1, 1, 1, 1, 1]}"
      ]
     },
     "execution_count": 11,
     "metadata": {},
     "output_type": "execute_result"
    }
   ],
   "execution_count": 11
  },
  {
   "metadata": {
    "ExecuteTime": {
     "end_time": "2025-08-21T10:57:25.458188Z",
     "start_time": "2025-08-21T10:56:47.840979Z"
    }
   },
   "cell_type": "code",
   "source": "from sentence_transformers import SentenceTransformer",
   "id": "a050fd5b40f3fbb4",
   "outputs": [],
   "execution_count": 1
  },
  {
   "metadata": {
    "ExecuteTime": {
     "end_time": "2025-08-21T11:17:52.521030Z",
     "start_time": "2025-08-21T11:17:50.696213Z"
    }
   },
   "cell_type": "code",
   "source": [
    "# Load model directly\n",
    "from transformers import AutoTokenizer, AutoModel\n",
    "\n",
    "tokenizer = AutoTokenizer.from_pretrained(\"nreimers/MiniLM-L6-H384-uncased\", cache_dir=\"./cache\")\n",
    "model = AutoModel.from_pretrained(\"nreimers/MiniLM-L6-H384-uncased\", cache_dir=\"./cache\")"
   ],
   "id": "f4e6f3f1497a6cd9",
   "outputs": [],
   "execution_count": 6
  },
  {
   "metadata": {
    "ExecuteTime": {
     "end_time": "2025-08-21T11:09:56.253088Z",
     "start_time": "2025-08-21T11:09:56.246912Z"
    }
   },
   "cell_type": "code",
   "source": "tokenizer(\"Test fdsa asdf String\")",
   "id": "9e4f2d760e3df15a",
   "outputs": [
    {
     "data": {
      "text/plain": [
       "{'input_ids': [101, 3231, 1042, 5104, 2050, 2004, 20952, 5164, 102], 'token_type_ids': [0, 0, 0, 0, 0, 0, 0, 0, 0], 'attention_mask': [1, 1, 1, 1, 1, 1, 1, 1, 1]}"
      ]
     },
     "execution_count": 5,
     "metadata": {},
     "output_type": "execute_result"
    }
   ],
   "execution_count": 5
  },
  {
   "metadata": {
    "ExecuteTime": {
     "end_time": "2025-08-22T11:46:09.305039Z",
     "start_time": "2025-08-22T11:45:34.705149Z"
    }
   },
   "cell_type": "code",
   "source": [
    "import comparator\n",
    "for article in articles:\n",
    "    data = [i, article.title, article.url, text, article.publish_date, \" \".join(article.authors)]\n",
    "    # Inserts it into the table and commits the table.\n",
    "    cur.execute(\"INSERT INTO news_articles VALUES (?,?,?,?,?,?)\", data)\n"
   ],
   "id": "38dc6330e25ba66d",
   "outputs": [
    {
     "data": {
      "text/plain": [
       "modules.json:   0%|          | 0.00/349 [00:00<?, ?B/s]"
      ],
      "application/vnd.jupyter.widget-view+json": {
       "version_major": 2,
       "version_minor": 0,
       "model_id": "66f6f288d04744ddb19f290112d90d66"
      }
     },
     "metadata": {},
     "output_type": "display_data"
    },
    {
     "data": {
      "text/plain": [
       "config_sentence_transformers.json:   0%|          | 0.00/116 [00:00<?, ?B/s]"
      ],
      "application/vnd.jupyter.widget-view+json": {
       "version_major": 2,
       "version_minor": 0,
       "model_id": "6b537d4c10774d6185bc7de7f7258d22"
      }
     },
     "metadata": {},
     "output_type": "display_data"
    },
    {
     "data": {
      "text/plain": [
       "README.md: 0.00B [00:00, ?B/s]"
      ],
      "application/vnd.jupyter.widget-view+json": {
       "version_major": 2,
       "version_minor": 0,
       "model_id": "e9550604eb4547799350b1e09fcab7be"
      }
     },
     "metadata": {},
     "output_type": "display_data"
    },
    {
     "data": {
      "text/plain": [
       "sentence_bert_config.json:   0%|          | 0.00/53.0 [00:00<?, ?B/s]"
      ],
      "application/vnd.jupyter.widget-view+json": {
       "version_major": 2,
       "version_minor": 0,
       "model_id": "9d52ed6d6bc340bcac48e1b5f037b8f7"
      }
     },
     "metadata": {},
     "output_type": "display_data"
    },
    {
     "data": {
      "text/plain": [
       "config.json:   0%|          | 0.00/612 [00:00<?, ?B/s]"
      ],
      "application/vnd.jupyter.widget-view+json": {
       "version_major": 2,
       "version_minor": 0,
       "model_id": "79f0b31f642148949ca88dcfcdefef1f"
      }
     },
     "metadata": {},
     "output_type": "display_data"
    },
    {
     "data": {
      "text/plain": [
       "model.safetensors:   0%|          | 0.00/90.9M [00:00<?, ?B/s]"
      ],
      "application/vnd.jupyter.widget-view+json": {
       "version_major": 2,
       "version_minor": 0,
       "model_id": "e77926b49546423cacb5c63fd13ba912"
      }
     },
     "metadata": {},
     "output_type": "display_data"
    },
    {
     "data": {
      "text/plain": [
       "tokenizer_config.json:   0%|          | 0.00/350 [00:00<?, ?B/s]"
      ],
      "application/vnd.jupyter.widget-view+json": {
       "version_major": 2,
       "version_minor": 0,
       "model_id": "5c6f60a191dc42008ecd7b17b4117b12"
      }
     },
     "metadata": {},
     "output_type": "display_data"
    },
    {
     "data": {
      "text/plain": [
       "vocab.txt: 0.00B [00:00, ?B/s]"
      ],
      "application/vnd.jupyter.widget-view+json": {
       "version_major": 2,
       "version_minor": 0,
       "model_id": "30a9af6f5f91438aacfcbc671589bb66"
      }
     },
     "metadata": {},
     "output_type": "display_data"
    },
    {
     "data": {
      "text/plain": [
       "tokenizer.json: 0.00B [00:00, ?B/s]"
      ],
      "application/vnd.jupyter.widget-view+json": {
       "version_major": 2,
       "version_minor": 0,
       "model_id": "87176224791e4095ad56153312617e4f"
      }
     },
     "metadata": {},
     "output_type": "display_data"
    },
    {
     "data": {
      "text/plain": [
       "special_tokens_map.json:   0%|          | 0.00/112 [00:00<?, ?B/s]"
      ],
      "application/vnd.jupyter.widget-view+json": {
       "version_major": 2,
       "version_minor": 0,
       "model_id": "006bda9da80c4948905ea8c295a742b0"
      }
     },
     "metadata": {},
     "output_type": "display_data"
    },
    {
     "data": {
      "text/plain": [
       "config.json:   0%|          | 0.00/190 [00:00<?, ?B/s]"
      ],
      "application/vnd.jupyter.widget-view+json": {
       "version_major": 2,
       "version_minor": 0,
       "model_id": "129d25768ae0421cafcdf214e4735628"
      }
     },
     "metadata": {},
     "output_type": "display_data"
    }
   ],
   "execution_count": 1
  },
  {
   "metadata": {
    "ExecuteTime": {
     "end_time": "2025-08-22T11:46:09.368385Z",
     "start_time": "2025-08-22T11:46:09.317398Z"
    }
   },
   "cell_type": "code",
   "source": "comp.compare(\"Test string 1\", \"This is not a test string\")",
   "id": "6136aa6e338ac36e",
   "outputs": [
    {
     "data": {
      "text/plain": [
       "tensor([[0.7856]])"
      ]
     },
     "execution_count": 2,
     "metadata": {},
     "output_type": "execute_result"
    }
   ],
   "execution_count": 2
  },
  {
   "metadata": {},
   "cell_type": "code",
   "outputs": [],
   "execution_count": null,
   "source": "",
   "id": "bd5a2bf17c6a48e8"
  }
 ],
 "metadata": {
  "kernelspec": {
   "display_name": "Python [conda env:base] *",
   "language": "python",
   "name": "conda-base-py"
  },
  "language_info": {
   "codemirror_mode": {
    "name": "ipython",
    "version": 2
   },
   "file_extension": ".py",
   "mimetype": "text/x-python",
   "name": "python",
   "nbconvert_exporter": "python",
   "pygments_lexer": "ipython2",
   "version": "2.7.6"
  }
 },
 "nbformat": 4,
 "nbformat_minor": 5
}
